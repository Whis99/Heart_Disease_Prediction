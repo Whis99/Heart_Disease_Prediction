{
  "cells": [
    {
      "cell_type": "code",
      "execution_count": 3,
      "metadata": {
        "id": "WXlHfJ5f6Co8"
      },
      "outputs": [],
      "source": [
        "import pandas as pd\n",
        "import matplotlib.pyplot as plt\n",
        "import seaborn as sns\n",
        "import numpy as np\n",
        "from sklearn.model_selection import train_test_split\n",
        "from sklearn.ensemble import RandomForestClassifier\n",
        "from sklearn.neighbors import KNeighborsClassifier\n",
        "from sklearn.model_selection import GridSearchCV\n",
        "from sklearn.linear_model import LogisticRegression"
      ]
    },
    {
      "attachments": {},
      "cell_type": "markdown",
      "metadata": {
        "id": "zR_6-rIfEu_T"
      },
      "source": [
        "Heart diseases prediction\n",
        "\n",
        "Heart disease is one of the leading common cause of death in the world. For that, we will use this dataset using the features given to predict if someone is most likely to suffer from a heart disease in the near future.\n",
        "\n",
        "We have the following features:\n",
        "- age: age of the person\n",
        "- sex: gender of the person (1 = male; 0 = female) \n",
        "- chest_pain_type: type of the chest pain\n",
        "    - Value 1: typical angina\n",
        "    - Value 2: atypical angina\n",
        "    - Value 3: non-anginal pain\n",
        "    - Value 4: asymptomatic \n",
        "- resting_bp - blood pressure while resting (in mm Hg on admission to the hospital) \n",
        "- cholesterol - person's cholestrol in mg/dl \n",
        "- fasting_blood_sugar - Blood sugar while fasting > 120 mg/dl (1 = true; 0 = false)\n",
        "- restecg - resting electrocardiographic results\n",
        "    - Value 0: normal\n",
        "    - Value 1: having ST-T wave abnormality (T wave inversions and/or ST elevation or depression of > 0.05 mV)\n",
        "    - Value 2: showing probable or definite left ventricular hypertrophy by Estes' criteria \n",
        "- max_hr - Maximum heart rate\n",
        "- exang - exercise induced angina (1 = yes; 0 = no)\n",
        "- oldpeak - ST depression induced by exercise relative to rest \n",
        "- slope - the slope of the peak exercise ST segment\n",
        "    - Value 1: upsloping\n",
        "    - Value 2: flat\n",
        "    - Value 3: downsloping \n",
        "- num_major_vessels - number of major vessels (0-3) colored by flourosopy\n",
        "- thal: 0 to 3\n",
        "- target - \n",
        "    - value 0: No heart disease\n",
        "    - value 1: Heart disease dysfunction propability\n"
      ]
    },
    {
      "cell_type": "code",
      "execution_count": 4,
      "metadata": {
        "colab": {
          "base_uri": "https://localhost:8080/",
          "height": 488
        },
        "id": "uwrIJB4qMZaY",
        "outputId": "ca779318-eb55-44b0-e6b0-d278d431d6c8"
      },
      "outputs": [
        {
          "data": {
            "text/html": [
              "\n",
              "  <div id=\"df-d41430ab-ad6b-409b-8968-9b13f1eb344b\">\n",
              "    <div class=\"colab-df-container\">\n",
              "      <div>\n",
              "<style scoped>\n",
              "    .dataframe tbody tr th:only-of-type {\n",
              "        vertical-align: middle;\n",
              "    }\n",
              "\n",
              "    .dataframe tbody tr th {\n",
              "        vertical-align: top;\n",
              "    }\n",
              "\n",
              "    .dataframe thead th {\n",
              "        text-align: right;\n",
              "    }\n",
              "</style>\n",
              "<table border=\"1\" class=\"dataframe\">\n",
              "  <thead>\n",
              "    <tr style=\"text-align: right;\">\n",
              "      <th></th>\n",
              "      <th>age</th>\n",
              "      <th>sex</th>\n",
              "      <th>chest_pain_type</th>\n",
              "      <th>resting_bp</th>\n",
              "      <th>cholestoral</th>\n",
              "      <th>fasting_blood_sugar</th>\n",
              "      <th>restecg</th>\n",
              "      <th>max_hr</th>\n",
              "      <th>exang</th>\n",
              "      <th>oldpeak</th>\n",
              "      <th>slope</th>\n",
              "      <th>num_major_vessels</th>\n",
              "      <th>thal</th>\n",
              "      <th>target</th>\n",
              "    </tr>\n",
              "  </thead>\n",
              "  <tbody>\n",
              "    <tr>\n",
              "      <th>0</th>\n",
              "      <td>63</td>\n",
              "      <td>1</td>\n",
              "      <td>3</td>\n",
              "      <td>145</td>\n",
              "      <td>233</td>\n",
              "      <td>1</td>\n",
              "      <td>0</td>\n",
              "      <td>150</td>\n",
              "      <td>0</td>\n",
              "      <td>2.3</td>\n",
              "      <td>0</td>\n",
              "      <td>0</td>\n",
              "      <td>1</td>\n",
              "      <td>1</td>\n",
              "    </tr>\n",
              "    <tr>\n",
              "      <th>1</th>\n",
              "      <td>37</td>\n",
              "      <td>1</td>\n",
              "      <td>2</td>\n",
              "      <td>130</td>\n",
              "      <td>250</td>\n",
              "      <td>0</td>\n",
              "      <td>1</td>\n",
              "      <td>187</td>\n",
              "      <td>0</td>\n",
              "      <td>3.5</td>\n",
              "      <td>0</td>\n",
              "      <td>0</td>\n",
              "      <td>2</td>\n",
              "      <td>1</td>\n",
              "    </tr>\n",
              "    <tr>\n",
              "      <th>2</th>\n",
              "      <td>41</td>\n",
              "      <td>0</td>\n",
              "      <td>1</td>\n",
              "      <td>130</td>\n",
              "      <td>204</td>\n",
              "      <td>0</td>\n",
              "      <td>0</td>\n",
              "      <td>172</td>\n",
              "      <td>0</td>\n",
              "      <td>1.4</td>\n",
              "      <td>2</td>\n",
              "      <td>0</td>\n",
              "      <td>2</td>\n",
              "      <td>1</td>\n",
              "    </tr>\n",
              "    <tr>\n",
              "      <th>3</th>\n",
              "      <td>56</td>\n",
              "      <td>1</td>\n",
              "      <td>1</td>\n",
              "      <td>120</td>\n",
              "      <td>236</td>\n",
              "      <td>0</td>\n",
              "      <td>1</td>\n",
              "      <td>178</td>\n",
              "      <td>0</td>\n",
              "      <td>0.8</td>\n",
              "      <td>2</td>\n",
              "      <td>0</td>\n",
              "      <td>2</td>\n",
              "      <td>1</td>\n",
              "    </tr>\n",
              "    <tr>\n",
              "      <th>4</th>\n",
              "      <td>57</td>\n",
              "      <td>0</td>\n",
              "      <td>0</td>\n",
              "      <td>120</td>\n",
              "      <td>354</td>\n",
              "      <td>0</td>\n",
              "      <td>1</td>\n",
              "      <td>163</td>\n",
              "      <td>1</td>\n",
              "      <td>0.6</td>\n",
              "      <td>2</td>\n",
              "      <td>0</td>\n",
              "      <td>2</td>\n",
              "      <td>1</td>\n",
              "    </tr>\n",
              "    <tr>\n",
              "      <th>...</th>\n",
              "      <td>...</td>\n",
              "      <td>...</td>\n",
              "      <td>...</td>\n",
              "      <td>...</td>\n",
              "      <td>...</td>\n",
              "      <td>...</td>\n",
              "      <td>...</td>\n",
              "      <td>...</td>\n",
              "      <td>...</td>\n",
              "      <td>...</td>\n",
              "      <td>...</td>\n",
              "      <td>...</td>\n",
              "      <td>...</td>\n",
              "      <td>...</td>\n",
              "    </tr>\n",
              "    <tr>\n",
              "      <th>298</th>\n",
              "      <td>57</td>\n",
              "      <td>0</td>\n",
              "      <td>0</td>\n",
              "      <td>140</td>\n",
              "      <td>241</td>\n",
              "      <td>0</td>\n",
              "      <td>1</td>\n",
              "      <td>123</td>\n",
              "      <td>1</td>\n",
              "      <td>0.2</td>\n",
              "      <td>1</td>\n",
              "      <td>0</td>\n",
              "      <td>3</td>\n",
              "      <td>0</td>\n",
              "    </tr>\n",
              "    <tr>\n",
              "      <th>299</th>\n",
              "      <td>45</td>\n",
              "      <td>1</td>\n",
              "      <td>3</td>\n",
              "      <td>110</td>\n",
              "      <td>264</td>\n",
              "      <td>0</td>\n",
              "      <td>1</td>\n",
              "      <td>132</td>\n",
              "      <td>0</td>\n",
              "      <td>1.2</td>\n",
              "      <td>1</td>\n",
              "      <td>0</td>\n",
              "      <td>3</td>\n",
              "      <td>0</td>\n",
              "    </tr>\n",
              "    <tr>\n",
              "      <th>300</th>\n",
              "      <td>68</td>\n",
              "      <td>1</td>\n",
              "      <td>0</td>\n",
              "      <td>144</td>\n",
              "      <td>193</td>\n",
              "      <td>1</td>\n",
              "      <td>1</td>\n",
              "      <td>141</td>\n",
              "      <td>0</td>\n",
              "      <td>3.4</td>\n",
              "      <td>1</td>\n",
              "      <td>2</td>\n",
              "      <td>3</td>\n",
              "      <td>0</td>\n",
              "    </tr>\n",
              "    <tr>\n",
              "      <th>301</th>\n",
              "      <td>57</td>\n",
              "      <td>1</td>\n",
              "      <td>0</td>\n",
              "      <td>130</td>\n",
              "      <td>131</td>\n",
              "      <td>0</td>\n",
              "      <td>1</td>\n",
              "      <td>115</td>\n",
              "      <td>1</td>\n",
              "      <td>1.2</td>\n",
              "      <td>1</td>\n",
              "      <td>1</td>\n",
              "      <td>3</td>\n",
              "      <td>0</td>\n",
              "    </tr>\n",
              "    <tr>\n",
              "      <th>302</th>\n",
              "      <td>57</td>\n",
              "      <td>0</td>\n",
              "      <td>1</td>\n",
              "      <td>130</td>\n",
              "      <td>236</td>\n",
              "      <td>0</td>\n",
              "      <td>0</td>\n",
              "      <td>174</td>\n",
              "      <td>0</td>\n",
              "      <td>0.0</td>\n",
              "      <td>1</td>\n",
              "      <td>1</td>\n",
              "      <td>2</td>\n",
              "      <td>0</td>\n",
              "    </tr>\n",
              "  </tbody>\n",
              "</table>\n",
              "<p>303 rows × 14 columns</p>\n",
              "</div>\n",
              "      <button class=\"colab-df-convert\" onclick=\"convertToInteractive('df-d41430ab-ad6b-409b-8968-9b13f1eb344b')\"\n",
              "              title=\"Convert this dataframe to an interactive table.\"\n",
              "              style=\"display:none;\">\n",
              "        \n",
              "  <svg xmlns=\"http://www.w3.org/2000/svg\" height=\"24px\"viewBox=\"0 0 24 24\"\n",
              "       width=\"24px\">\n",
              "    <path d=\"M0 0h24v24H0V0z\" fill=\"none\"/>\n",
              "    <path d=\"M18.56 5.44l.94 2.06.94-2.06 2.06-.94-2.06-.94-.94-2.06-.94 2.06-2.06.94zm-11 1L8.5 8.5l.94-2.06 2.06-.94-2.06-.94L8.5 2.5l-.94 2.06-2.06.94zm10 10l.94 2.06.94-2.06 2.06-.94-2.06-.94-.94-2.06-.94 2.06-2.06.94z\"/><path d=\"M17.41 7.96l-1.37-1.37c-.4-.4-.92-.59-1.43-.59-.52 0-1.04.2-1.43.59L10.3 9.45l-7.72 7.72c-.78.78-.78 2.05 0 2.83L4 21.41c.39.39.9.59 1.41.59.51 0 1.02-.2 1.41-.59l7.78-7.78 2.81-2.81c.8-.78.8-2.07 0-2.86zM5.41 20L4 18.59l7.72-7.72 1.47 1.35L5.41 20z\"/>\n",
              "  </svg>\n",
              "      </button>\n",
              "      \n",
              "  <style>\n",
              "    .colab-df-container {\n",
              "      display:flex;\n",
              "      flex-wrap:wrap;\n",
              "      gap: 12px;\n",
              "    }\n",
              "\n",
              "    .colab-df-convert {\n",
              "      background-color: #E8F0FE;\n",
              "      border: none;\n",
              "      border-radius: 50%;\n",
              "      cursor: pointer;\n",
              "      display: none;\n",
              "      fill: #1967D2;\n",
              "      height: 32px;\n",
              "      padding: 0 0 0 0;\n",
              "      width: 32px;\n",
              "    }\n",
              "\n",
              "    .colab-df-convert:hover {\n",
              "      background-color: #E2EBFA;\n",
              "      box-shadow: 0px 1px 2px rgba(60, 64, 67, 0.3), 0px 1px 3px 1px rgba(60, 64, 67, 0.15);\n",
              "      fill: #174EA6;\n",
              "    }\n",
              "\n",
              "    [theme=dark] .colab-df-convert {\n",
              "      background-color: #3B4455;\n",
              "      fill: #D2E3FC;\n",
              "    }\n",
              "\n",
              "    [theme=dark] .colab-df-convert:hover {\n",
              "      background-color: #434B5C;\n",
              "      box-shadow: 0px 1px 3px 1px rgba(0, 0, 0, 0.15);\n",
              "      filter: drop-shadow(0px 1px 2px rgba(0, 0, 0, 0.3));\n",
              "      fill: #FFFFFF;\n",
              "    }\n",
              "  </style>\n",
              "\n",
              "      <script>\n",
              "        const buttonEl =\n",
              "          document.querySelector('#df-d41430ab-ad6b-409b-8968-9b13f1eb344b button.colab-df-convert');\n",
              "        buttonEl.style.display =\n",
              "          google.colab.kernel.accessAllowed ? 'block' : 'none';\n",
              "\n",
              "        async function convertToInteractive(key) {\n",
              "          const element = document.querySelector('#df-d41430ab-ad6b-409b-8968-9b13f1eb344b');\n",
              "          const dataTable =\n",
              "            await google.colab.kernel.invokeFunction('convertToInteractive',\n",
              "                                                     [key], {});\n",
              "          if (!dataTable) return;\n",
              "\n",
              "          const docLinkHtml = 'Like what you see? Visit the ' +\n",
              "            '<a target=\"_blank\" href=https://colab.research.google.com/notebooks/data_table.ipynb>data table notebook</a>'\n",
              "            + ' to learn more about interactive tables.';\n",
              "          element.innerHTML = '';\n",
              "          dataTable['output_type'] = 'display_data';\n",
              "          await google.colab.output.renderOutput(dataTable, element);\n",
              "          const docLink = document.createElement('div');\n",
              "          docLink.innerHTML = docLinkHtml;\n",
              "          element.appendChild(docLink);\n",
              "        }\n",
              "      </script>\n",
              "    </div>\n",
              "  </div>\n",
              "  "
            ],
            "text/plain": [
              "     age  sex  chest_pain_type  resting_bp  cholestoral  fasting_blood_sugar  \\\n",
              "0     63    1                3         145          233                    1   \n",
              "1     37    1                2         130          250                    0   \n",
              "2     41    0                1         130          204                    0   \n",
              "3     56    1                1         120          236                    0   \n",
              "4     57    0                0         120          354                    0   \n",
              "..   ...  ...              ...         ...          ...                  ...   \n",
              "298   57    0                0         140          241                    0   \n",
              "299   45    1                3         110          264                    0   \n",
              "300   68    1                0         144          193                    1   \n",
              "301   57    1                0         130          131                    0   \n",
              "302   57    0                1         130          236                    0   \n",
              "\n",
              "     restecg  max_hr  exang  oldpeak  slope  num_major_vessels  thal  target  \n",
              "0          0     150      0      2.3      0                  0     1       1  \n",
              "1          1     187      0      3.5      0                  0     2       1  \n",
              "2          0     172      0      1.4      2                  0     2       1  \n",
              "3          1     178      0      0.8      2                  0     2       1  \n",
              "4          1     163      1      0.6      2                  0     2       1  \n",
              "..       ...     ...    ...      ...    ...                ...   ...     ...  \n",
              "298        1     123      1      0.2      1                  0     3       0  \n",
              "299        1     132      0      1.2      1                  0     3       0  \n",
              "300        1     141      0      3.4      1                  2     3       0  \n",
              "301        1     115      1      1.2      1                  1     3       0  \n",
              "302        0     174      0      0.0      1                  1     2       0  \n",
              "\n",
              "[303 rows x 14 columns]"
            ]
          },
          "execution_count": 4,
          "metadata": {},
          "output_type": "execute_result"
        }
      ],
      "source": [
        "url = '/content/heart.csv'\n",
        "\n",
        "dataframe = pd.read_csv(url)\n",
        "dataframe"
      ]
    },
    {
      "cell_type": "markdown",
      "metadata": {
        "id": "QKQfIVg34sgt"
      },
      "source": [
        "# Data visualisation"
      ]
    },
    {
      "cell_type": "code",
      "execution_count": 5,
      "metadata": {
        "colab": {
          "base_uri": "https://localhost:8080/"
        },
        "id": "xP2RjhhCMno7",
        "outputId": "d130fad0-b165-4442-e0f4-2aaff7365d26"
      },
      "outputs": [
        {
          "name": "stdout",
          "output_type": "stream",
          "text": [
            "<class 'pandas.core.frame.DataFrame'>\n",
            "RangeIndex: 303 entries, 0 to 302\n",
            "Data columns (total 14 columns):\n",
            " #   Column               Non-Null Count  Dtype  \n",
            "---  ------               --------------  -----  \n",
            " 0   age                  303 non-null    int64  \n",
            " 1   sex                  303 non-null    int64  \n",
            " 2   chest_pain_type      303 non-null    int64  \n",
            " 3   resting_bp           303 non-null    int64  \n",
            " 4   cholestoral          303 non-null    int64  \n",
            " 5   fasting_blood_sugar  303 non-null    int64  \n",
            " 6   restecg              303 non-null    int64  \n",
            " 7   max_hr               303 non-null    int64  \n",
            " 8   exang                303 non-null    int64  \n",
            " 9   oldpeak              303 non-null    float64\n",
            " 10  slope                303 non-null    int64  \n",
            " 11  num_major_vessels    303 non-null    int64  \n",
            " 12  thal                 303 non-null    int64  \n",
            " 13  target               303 non-null    int64  \n",
            "dtypes: float64(1), int64(13)\n",
            "memory usage: 33.3 KB\n"
          ]
        }
      ],
      "source": [
        "dataframe.info()"
      ]
    },
    {
      "cell_type": "code",
      "execution_count": 6,
      "metadata": {
        "colab": {
          "base_uri": "https://localhost:8080/",
          "height": 364
        },
        "id": "6BKWVtnRPL92",
        "outputId": "61b98117-0b52-46df-c36d-c808305bf980"
      },
      "outputs": [
        {
          "data": {
            "text/html": [
              "\n",
              "  <div id=\"df-9d551bad-7d81-437f-8a56-005ea9d10b49\">\n",
              "    <div class=\"colab-df-container\">\n",
              "      <div>\n",
              "<style scoped>\n",
              "    .dataframe tbody tr th:only-of-type {\n",
              "        vertical-align: middle;\n",
              "    }\n",
              "\n",
              "    .dataframe tbody tr th {\n",
              "        vertical-align: top;\n",
              "    }\n",
              "\n",
              "    .dataframe thead th {\n",
              "        text-align: right;\n",
              "    }\n",
              "</style>\n",
              "<table border=\"1\" class=\"dataframe\">\n",
              "  <thead>\n",
              "    <tr style=\"text-align: right;\">\n",
              "      <th></th>\n",
              "      <th>age</th>\n",
              "      <th>sex</th>\n",
              "      <th>chest_pain_type</th>\n",
              "      <th>resting_bp</th>\n",
              "      <th>cholestoral</th>\n",
              "      <th>fasting_blood_sugar</th>\n",
              "      <th>restecg</th>\n",
              "      <th>max_hr</th>\n",
              "      <th>exang</th>\n",
              "      <th>oldpeak</th>\n",
              "      <th>slope</th>\n",
              "      <th>num_major_vessels</th>\n",
              "      <th>thal</th>\n",
              "      <th>target</th>\n",
              "    </tr>\n",
              "  </thead>\n",
              "  <tbody>\n",
              "    <tr>\n",
              "      <th>count</th>\n",
              "      <td>303.000000</td>\n",
              "      <td>303.000000</td>\n",
              "      <td>303.000000</td>\n",
              "      <td>303.000000</td>\n",
              "      <td>303.000000</td>\n",
              "      <td>303.000000</td>\n",
              "      <td>303.000000</td>\n",
              "      <td>303.000000</td>\n",
              "      <td>303.000000</td>\n",
              "      <td>303.000000</td>\n",
              "      <td>303.000000</td>\n",
              "      <td>303.000000</td>\n",
              "      <td>303.000000</td>\n",
              "      <td>303.000000</td>\n",
              "    </tr>\n",
              "    <tr>\n",
              "      <th>mean</th>\n",
              "      <td>54.366337</td>\n",
              "      <td>0.683168</td>\n",
              "      <td>0.966997</td>\n",
              "      <td>131.623762</td>\n",
              "      <td>246.264026</td>\n",
              "      <td>0.148515</td>\n",
              "      <td>0.528053</td>\n",
              "      <td>149.646865</td>\n",
              "      <td>0.326733</td>\n",
              "      <td>1.039604</td>\n",
              "      <td>1.399340</td>\n",
              "      <td>0.729373</td>\n",
              "      <td>2.313531</td>\n",
              "      <td>0.544554</td>\n",
              "    </tr>\n",
              "    <tr>\n",
              "      <th>std</th>\n",
              "      <td>9.082101</td>\n",
              "      <td>0.466011</td>\n",
              "      <td>1.032052</td>\n",
              "      <td>17.538143</td>\n",
              "      <td>51.830751</td>\n",
              "      <td>0.356198</td>\n",
              "      <td>0.525860</td>\n",
              "      <td>22.905161</td>\n",
              "      <td>0.469794</td>\n",
              "      <td>1.161075</td>\n",
              "      <td>0.616226</td>\n",
              "      <td>1.022606</td>\n",
              "      <td>0.612277</td>\n",
              "      <td>0.498835</td>\n",
              "    </tr>\n",
              "    <tr>\n",
              "      <th>min</th>\n",
              "      <td>29.000000</td>\n",
              "      <td>0.000000</td>\n",
              "      <td>0.000000</td>\n",
              "      <td>94.000000</td>\n",
              "      <td>126.000000</td>\n",
              "      <td>0.000000</td>\n",
              "      <td>0.000000</td>\n",
              "      <td>71.000000</td>\n",
              "      <td>0.000000</td>\n",
              "      <td>0.000000</td>\n",
              "      <td>0.000000</td>\n",
              "      <td>0.000000</td>\n",
              "      <td>0.000000</td>\n",
              "      <td>0.000000</td>\n",
              "    </tr>\n",
              "    <tr>\n",
              "      <th>25%</th>\n",
              "      <td>47.500000</td>\n",
              "      <td>0.000000</td>\n",
              "      <td>0.000000</td>\n",
              "      <td>120.000000</td>\n",
              "      <td>211.000000</td>\n",
              "      <td>0.000000</td>\n",
              "      <td>0.000000</td>\n",
              "      <td>133.500000</td>\n",
              "      <td>0.000000</td>\n",
              "      <td>0.000000</td>\n",
              "      <td>1.000000</td>\n",
              "      <td>0.000000</td>\n",
              "      <td>2.000000</td>\n",
              "      <td>0.000000</td>\n",
              "    </tr>\n",
              "    <tr>\n",
              "      <th>50%</th>\n",
              "      <td>55.000000</td>\n",
              "      <td>1.000000</td>\n",
              "      <td>1.000000</td>\n",
              "      <td>130.000000</td>\n",
              "      <td>240.000000</td>\n",
              "      <td>0.000000</td>\n",
              "      <td>1.000000</td>\n",
              "      <td>153.000000</td>\n",
              "      <td>0.000000</td>\n",
              "      <td>0.800000</td>\n",
              "      <td>1.000000</td>\n",
              "      <td>0.000000</td>\n",
              "      <td>2.000000</td>\n",
              "      <td>1.000000</td>\n",
              "    </tr>\n",
              "    <tr>\n",
              "      <th>75%</th>\n",
              "      <td>61.000000</td>\n",
              "      <td>1.000000</td>\n",
              "      <td>2.000000</td>\n",
              "      <td>140.000000</td>\n",
              "      <td>274.500000</td>\n",
              "      <td>0.000000</td>\n",
              "      <td>1.000000</td>\n",
              "      <td>166.000000</td>\n",
              "      <td>1.000000</td>\n",
              "      <td>1.600000</td>\n",
              "      <td>2.000000</td>\n",
              "      <td>1.000000</td>\n",
              "      <td>3.000000</td>\n",
              "      <td>1.000000</td>\n",
              "    </tr>\n",
              "    <tr>\n",
              "      <th>max</th>\n",
              "      <td>77.000000</td>\n",
              "      <td>1.000000</td>\n",
              "      <td>3.000000</td>\n",
              "      <td>200.000000</td>\n",
              "      <td>564.000000</td>\n",
              "      <td>1.000000</td>\n",
              "      <td>2.000000</td>\n",
              "      <td>202.000000</td>\n",
              "      <td>1.000000</td>\n",
              "      <td>6.200000</td>\n",
              "      <td>2.000000</td>\n",
              "      <td>4.000000</td>\n",
              "      <td>3.000000</td>\n",
              "      <td>1.000000</td>\n",
              "    </tr>\n",
              "  </tbody>\n",
              "</table>\n",
              "</div>\n",
              "      <button class=\"colab-df-convert\" onclick=\"convertToInteractive('df-9d551bad-7d81-437f-8a56-005ea9d10b49')\"\n",
              "              title=\"Convert this dataframe to an interactive table.\"\n",
              "              style=\"display:none;\">\n",
              "        \n",
              "  <svg xmlns=\"http://www.w3.org/2000/svg\" height=\"24px\"viewBox=\"0 0 24 24\"\n",
              "       width=\"24px\">\n",
              "    <path d=\"M0 0h24v24H0V0z\" fill=\"none\"/>\n",
              "    <path d=\"M18.56 5.44l.94 2.06.94-2.06 2.06-.94-2.06-.94-.94-2.06-.94 2.06-2.06.94zm-11 1L8.5 8.5l.94-2.06 2.06-.94-2.06-.94L8.5 2.5l-.94 2.06-2.06.94zm10 10l.94 2.06.94-2.06 2.06-.94-2.06-.94-.94-2.06-.94 2.06-2.06.94z\"/><path d=\"M17.41 7.96l-1.37-1.37c-.4-.4-.92-.59-1.43-.59-.52 0-1.04.2-1.43.59L10.3 9.45l-7.72 7.72c-.78.78-.78 2.05 0 2.83L4 21.41c.39.39.9.59 1.41.59.51 0 1.02-.2 1.41-.59l7.78-7.78 2.81-2.81c.8-.78.8-2.07 0-2.86zM5.41 20L4 18.59l7.72-7.72 1.47 1.35L5.41 20z\"/>\n",
              "  </svg>\n",
              "      </button>\n",
              "      \n",
              "  <style>\n",
              "    .colab-df-container {\n",
              "      display:flex;\n",
              "      flex-wrap:wrap;\n",
              "      gap: 12px;\n",
              "    }\n",
              "\n",
              "    .colab-df-convert {\n",
              "      background-color: #E8F0FE;\n",
              "      border: none;\n",
              "      border-radius: 50%;\n",
              "      cursor: pointer;\n",
              "      display: none;\n",
              "      fill: #1967D2;\n",
              "      height: 32px;\n",
              "      padding: 0 0 0 0;\n",
              "      width: 32px;\n",
              "    }\n",
              "\n",
              "    .colab-df-convert:hover {\n",
              "      background-color: #E2EBFA;\n",
              "      box-shadow: 0px 1px 2px rgba(60, 64, 67, 0.3), 0px 1px 3px 1px rgba(60, 64, 67, 0.15);\n",
              "      fill: #174EA6;\n",
              "    }\n",
              "\n",
              "    [theme=dark] .colab-df-convert {\n",
              "      background-color: #3B4455;\n",
              "      fill: #D2E3FC;\n",
              "    }\n",
              "\n",
              "    [theme=dark] .colab-df-convert:hover {\n",
              "      background-color: #434B5C;\n",
              "      box-shadow: 0px 1px 3px 1px rgba(0, 0, 0, 0.15);\n",
              "      filter: drop-shadow(0px 1px 2px rgba(0, 0, 0, 0.3));\n",
              "      fill: #FFFFFF;\n",
              "    }\n",
              "  </style>\n",
              "\n",
              "      <script>\n",
              "        const buttonEl =\n",
              "          document.querySelector('#df-9d551bad-7d81-437f-8a56-005ea9d10b49 button.colab-df-convert');\n",
              "        buttonEl.style.display =\n",
              "          google.colab.kernel.accessAllowed ? 'block' : 'none';\n",
              "\n",
              "        async function convertToInteractive(key) {\n",
              "          const element = document.querySelector('#df-9d551bad-7d81-437f-8a56-005ea9d10b49');\n",
              "          const dataTable =\n",
              "            await google.colab.kernel.invokeFunction('convertToInteractive',\n",
              "                                                     [key], {});\n",
              "          if (!dataTable) return;\n",
              "\n",
              "          const docLinkHtml = 'Like what you see? Visit the ' +\n",
              "            '<a target=\"_blank\" href=https://colab.research.google.com/notebooks/data_table.ipynb>data table notebook</a>'\n",
              "            + ' to learn more about interactive tables.';\n",
              "          element.innerHTML = '';\n",
              "          dataTable['output_type'] = 'display_data';\n",
              "          await google.colab.output.renderOutput(dataTable, element);\n",
              "          const docLink = document.createElement('div');\n",
              "          docLink.innerHTML = docLinkHtml;\n",
              "          element.appendChild(docLink);\n",
              "        }\n",
              "      </script>\n",
              "    </div>\n",
              "  </div>\n",
              "  "
            ],
            "text/plain": [
              "              age         sex  chest_pain_type  resting_bp  cholestoral  \\\n",
              "count  303.000000  303.000000       303.000000  303.000000   303.000000   \n",
              "mean    54.366337    0.683168         0.966997  131.623762   246.264026   \n",
              "std      9.082101    0.466011         1.032052   17.538143    51.830751   \n",
              "min     29.000000    0.000000         0.000000   94.000000   126.000000   \n",
              "25%     47.500000    0.000000         0.000000  120.000000   211.000000   \n",
              "50%     55.000000    1.000000         1.000000  130.000000   240.000000   \n",
              "75%     61.000000    1.000000         2.000000  140.000000   274.500000   \n",
              "max     77.000000    1.000000         3.000000  200.000000   564.000000   \n",
              "\n",
              "       fasting_blood_sugar     restecg      max_hr       exang     oldpeak  \\\n",
              "count           303.000000  303.000000  303.000000  303.000000  303.000000   \n",
              "mean              0.148515    0.528053  149.646865    0.326733    1.039604   \n",
              "std               0.356198    0.525860   22.905161    0.469794    1.161075   \n",
              "min               0.000000    0.000000   71.000000    0.000000    0.000000   \n",
              "25%               0.000000    0.000000  133.500000    0.000000    0.000000   \n",
              "50%               0.000000    1.000000  153.000000    0.000000    0.800000   \n",
              "75%               0.000000    1.000000  166.000000    1.000000    1.600000   \n",
              "max               1.000000    2.000000  202.000000    1.000000    6.200000   \n",
              "\n",
              "            slope  num_major_vessels        thal      target  \n",
              "count  303.000000         303.000000  303.000000  303.000000  \n",
              "mean     1.399340           0.729373    2.313531    0.544554  \n",
              "std      0.616226           1.022606    0.612277    0.498835  \n",
              "min      0.000000           0.000000    0.000000    0.000000  \n",
              "25%      1.000000           0.000000    2.000000    0.000000  \n",
              "50%      1.000000           0.000000    2.000000    1.000000  \n",
              "75%      2.000000           1.000000    3.000000    1.000000  \n",
              "max      2.000000           4.000000    3.000000    1.000000  "
            ]
          },
          "execution_count": 6,
          "metadata": {},
          "output_type": "execute_result"
        }
      ],
      "source": [
        "dataframe.describe()"
      ]
    },
    {
      "cell_type": "code",
      "execution_count": 7,
      "metadata": {
        "colab": {
          "base_uri": "https://localhost:8080/"
        },
        "id": "n0zbEio34z6n",
        "outputId": "74b222af-0ce3-4f6d-b18c-5d6fc575741c"
      },
      "outputs": [
        {
          "data": {
            "text/plain": [
              "Index(['age', 'sex', 'chest_pain_type', 'resting_bp', 'cholestoral',\n",
              "       'fasting_blood_sugar', 'restecg', 'max_hr', 'exang', 'oldpeak', 'slope',\n",
              "       'num_major_vessels', 'thal', 'target'],\n",
              "      dtype='object')"
            ]
          },
          "execution_count": 7,
          "metadata": {},
          "output_type": "execute_result"
        }
      ],
      "source": [
        "dataframe.columns"
      ]
    },
    {
      "cell_type": "code",
      "execution_count": 8,
      "metadata": {
        "colab": {
          "base_uri": "https://localhost:8080/",
          "height": 387
        },
        "id": "sP3zO16u5jBL",
        "outputId": "8a6e438a-7d9a-4c6d-b9dd-8d95183fe692"
      },
      "outputs": [
        {
          "data": {
            "text/plain": [
              "<seaborn.axisgrid.FacetGrid at 0x7f47134309a0>"
            ]
          },
          "execution_count": 8,
          "metadata": {},
          "output_type": "execute_result"
        },
        {
          "data": {
            "image/png": "[encoded data removed]",
            "text/plain": [
              "<Figure size 402.375x360 with 1 Axes>"
            ]
          },
          "metadata": {
            "needs_background": "light"
          },
          "output_type": "display_data"
        }
      ],
      "source": [
        "sns.catplot(x='age', y='cholestoral', data=dataframe, hue='target')"
      ]
    },
    {
      "cell_type": "code",
      "execution_count": 9,
      "metadata": {
        "colab": {
          "base_uri": "https://localhost:8080/",
          "height": 704
        },
        "id": "gysHNZ4r5fTk",
        "outputId": "971d04c5-0de1-45a5-c645-42c837ecb7aa"
      },
      "outputs": [
        {
          "data": {
            "text/plain": [
              "<AxesSubplot:>"
            ]
          },
          "execution_count": 9,
          "metadata": {},
          "output_type": "execute_result"
        },
        {
          "data": {
            "image/png": "[encoded data removed]",
            "text/plain": [
              "<Figure size 864x720 with 2 Axes>"
            ]
          },
          "metadata": {
            "needs_background": "light"
          },
          "output_type": "display_data"
        }
      ],
      "source": [
        "plt.figure(figsize=(12,10))\n",
        "corr = dataframe.corr()\n",
        "sns.heatmap(corr, annot = True, linewidths= 0.2, linecolor= 'black', cmap = 'afmhot')"
      ]
    },
    {
      "cell_type": "markdown",
      "metadata": {
        "id": "2blS-zmDJ53Q"
      },
      "source": [
        "# Removing target values from the dataframe"
      ]
    },
    {
      "cell_type": "code",
      "execution_count": 10,
      "metadata": {
        "colab": {
          "base_uri": "https://localhost:8080/"
        },
        "id": "XSK0iEGbfiPM",
        "outputId": "0d63b906-e419-4369-85a3-852ccdcd06f3"
      },
      "outputs": [
        {
          "name": "stdout",
          "output_type": "stream",
          "text": [
            "X shape:  (303, 13)\n",
            "Y shape:  (303,)\n"
          ]
        }
      ],
      "source": [
        "features = np.array(dataframe.drop(\"target\", axis=1))\n",
        "\n",
        "target = np.array(dataframe[\"target\"])\n",
        "\n",
        "del dataframe['target']\n",
        "\n",
        "print(\"X shape: \",features.shape)\n",
        "print(\"Y shape: \",target.shape)"
      ]
    },
    {
      "cell_type": "markdown",
      "metadata": {
        "id": "2HSAlcP_KX_G"
      },
      "source": [
        "#Print the shape and data type of the dataframe"
      ]
    },
    {
      "cell_type": "code",
      "execution_count": 11,
      "metadata": {
        "colab": {
          "base_uri": "https://localhost:8080/"
        },
        "id": "DIw2mK7eniLJ",
        "outputId": "952b1a0e-2044-4d5b-a2dc-c2253fd1fa56"
      },
      "outputs": [
        {
          "name": "stdout",
          "output_type": "stream",
          "text": [
            "Shape: (303, 13)\n",
            "age                      int64\n",
            "sex                      int64\n",
            "chest_pain_type          int64\n",
            "resting_bp               int64\n",
            "cholestoral              int64\n",
            "fasting_blood_sugar      int64\n",
            "restecg                  int64\n",
            "max_hr                   int64\n",
            "exang                    int64\n",
            "oldpeak                float64\n",
            "slope                    int64\n",
            "num_major_vessels        int64\n",
            "thal                     int64\n",
            "dtype: object\n"
          ]
        }
      ],
      "source": [
        "print (f\"Shape: {dataframe.shape}\")\n",
        "print (dataframe.dtypes)"
      ]
    },
    {
      "cell_type": "markdown",
      "metadata": {
        "id": "4sluvcFkLjMV"
      },
      "source": [
        "# Splitting the dataset into train set and test set"
      ]
    },
    {
      "cell_type": "code",
      "execution_count": 12,
      "metadata": {
        "colab": {
          "base_uri": "https://localhost:8080/"
        },
        "id": "eksBMgwKiLpt",
        "outputId": "82e1159e-2b32-4ae5-b16c-39c1c2ba8924"
      },
      "outputs": [
        {
          "name": "stdout",
          "output_type": "stream",
          "text": [
            "X train shape:  (242, 13)\n",
            "Y train shape:  (242,)\n"
          ]
        }
      ],
      "source": [
        "X_train, X_test, y_train, y_test = train_test_split(features, target, test_size=0.2, random_state=5)\n",
        "print(\"X train shape: \",X_train.shape)\n",
        "print(\"Y train shape: \",y_train.shape)"
      ]
    },
    {
      "cell_type": "markdown",
      "metadata": {
        "id": "zCk4OQUmdPrI"
      },
      "source": [
        "#Modelisation\n",
        "# We will use use some classification models and choose the one who has the best score."
      ]
    },
    {
      "cell_type": "code",
      "execution_count": 13,
      "metadata": {
        "colab": {
          "base_uri": "https://localhost:8080/"
        },
        "id": "WdlPVjHkqJAu",
        "outputId": "64e254f3-a71e-4254-bfdc-aee55e9c9c93"
      },
      "outputs": [
        {
          "name": "stdout",
          "output_type": "stream",
          "text": [
            "Train set score: 100.0 %\n",
            "Test set score:  70.49180327868852 %\n"
          ]
        }
      ],
      "source": [
        "#KNeighborsClassifier\n",
        "def KNN():\n",
        "  model_KNN = KNeighborsClassifier(n_neighbors=3, weights='distance', algorithm = 'auto', leaf_size = 10, p = 3, metric = 'manhattan' )\n",
        "  model_KNN.fit(X_train,y_train)\n",
        "  return model_KNN\n",
        "\n",
        "\n",
        "print(f\"Train set score: {KNN().score(X_train,y_train) * 100} %\")\n",
        "print(f\"Test set score:  {KNN().score(X_test,y_test) * 100} %\")"
      ]
    },
    {
      "cell_type": "code",
      "execution_count": 14,
      "metadata": {
        "colab": {
          "base_uri": "https://localhost:8080/"
        },
        "id": "WZf22typdbzE",
        "outputId": "7c54a930-9272-4edf-a361-3fbc5d99c953"
      },
      "outputs": [
        {
          "name": "stdout",
          "output_type": "stream",
          "text": [
            "Train set score: 100.0 %\n",
            "Test set score:  88.52459016393442 %\n"
          ]
        }
      ],
      "source": [
        "#RandomForestClassifier\n",
        "def RFC():\n",
        "  model_RFC=RandomForestClassifier(n_estimators = 300)\n",
        "  model_RFC.fit(X_train,y_train)\n",
        "  return model_RFC\n",
        "\n",
        "\n",
        "print(f\"Train set score: {RFC().score(X_train,y_train)* 100} %\")\n",
        "print(f\"Test set score:  {RFC().score(X_test,y_test)* 100} %\")"
      ]
    },
    {
      "cell_type": "code",
      "execution_count": 15,
      "metadata": {
        "colab": {
          "base_uri": "https://localhost:8080/"
        },
        "id": "7dsxdzxa6jZK",
        "outputId": "27764247-94b4-4236-b9f1-ffae50955b0c"
      },
      "outputs": [
        {
          "name": "stdout",
          "output_type": "stream",
          "text": [
            "Train set score: 83.88429752066115 %\n",
            "Test set score:  91.80327868852459 %\n"
          ]
        },
        {
          "name": "stderr",
          "output_type": "stream",
          "text": [
            "/usr/local/lib/python3.8/dist-packages/sklearn/linear_model/_logistic.py:814: ConvergenceWarning: lbfgs failed to converge (status=1):\n",
            "STOP: TOTAL NO. of ITERATIONS REACHED LIMIT.\n",
            "\n",
            "Increase the number of iterations (max_iter) or scale the data as shown in:\n",
            "    https://scikit-learn.org/stable/modules/preprocessing.html\n",
            "Please also refer to the documentation for alternative solver options:\n",
            "    https://scikit-learn.org/stable/modules/linear_model.html#logistic-regression\n",
            "  n_iter_i = _check_optimize_result(\n",
            "/usr/local/lib/python3.8/dist-packages/sklearn/linear_model/_logistic.py:814: ConvergenceWarning: lbfgs failed to converge (status=1):\n",
            "STOP: TOTAL NO. of ITERATIONS REACHED LIMIT.\n",
            "\n",
            "Increase the number of iterations (max_iter) or scale the data as shown in:\n",
            "    https://scikit-learn.org/stable/modules/preprocessing.html\n",
            "Please also refer to the documentation for alternative solver options:\n",
            "    https://scikit-learn.org/stable/modules/linear_model.html#logistic-regression\n",
            "  n_iter_i = _check_optimize_result(\n"
          ]
        }
      ],
      "source": [
        "#LogisticRegression\n",
        "def LR():\n",
        "  model_LR = LogisticRegression(random_state=5)\n",
        "  model_LR.fit(X_train, y_train)\n",
        "  return model_LR\n",
        "\n",
        "\n",
        "print(f\"Train set score: {LR().score(X_train,y_train)* 100} %\")\n",
        "print(f\"Test set score:  {LR().score(X_test,y_test)* 100} %\")"
      ]
    },
    {
      "cell_type": "markdown",
      "metadata": {
        "id": "ste0mY06OMml"
      },
      "source": [
        "#Cross validation"
      ]
    },
    {
      "cell_type": "code",
      "execution_count": 16,
      "metadata": {
        "colab": {
          "base_uri": "https://localhost:8080/"
        },
        "id": "Tz-ylJeUJwc8",
        "outputId": "0e1fe193-1f3d-409e-86e6-b5352ec0327c"
      },
      "outputs": [
        {
          "data": {
            "text/plain": [
              "0.6284863945578232"
            ]
          },
          "execution_count": 16,
          "metadata": {},
          "output_type": "execute_result"
        }
      ],
      "source": [
        "from sklearn.model_selection import cross_val_score\n",
        "     \n",
        "model = KNeighborsClassifier()\n",
        "cross_val_score(model, X_train, y_train, cv=5, scoring='accuracy').mean()"
      ]
    },
    {
      "cell_type": "code",
      "execution_count": 17,
      "metadata": {
        "colab": {
          "base_uri": "https://localhost:8080/",
          "height": 321
        },
        "id": "uqLM7Yg1NlXY",
        "outputId": "2e2654db-3118-456d-8e9d-33cc7b356899"
      },
      "outputs": [
        {
          "name": "stdout",
          "output_type": "stream",
          "text": [
            "[0.5951530612244899, 0.5744047619047619, 0.5993197278911565, 0.6237244897959183, 0.6284863945578232, 0.611734693877551, 0.611904761904762, 0.5993197278911564, 0.6077380952380953, 0.6244047619047619, 0.6119897959183673, 0.6202380952380951, 0.6326530612244898, 0.6327380952380952, 0.6369897959183674, 0.6494047619047618, 0.661734693877551, 0.6660714285714285, 0.6616496598639455, 0.6533163265306122, 0.6657312925170069, 0.6493197278911566, 0.6701530612244898, 0.6493197278911564, 0.6659863945578233, 0.6741496598639455, 0.6782312925170068, 0.6782312925170069, 0.6781462585034014, 0.674234693877551, 0.6657312925170068, 0.6573979591836735, 0.66156462585034, 0.6659013605442177, 0.6576530612244897, 0.6575680272108844, 0.6575680272108844, 0.6453231292517007, 0.6576530612244897, 0.6660714285714284, 0.6577380952380951, 0.6619047619047619, 0.6658163265306122, 0.661734693877551, 0.6575680272108844, 0.661734693877551, 0.6410714285714285, 0.6453231292517007, 0.6453231292517007]\n"
          ]
        },
        {
          "data": {
            "text/plain": [
              "[<matplotlib.lines.Line2D at 0x7f4710794dc0>]"
            ]
          },
          "execution_count": 17,
          "metadata": {},
          "output_type": "execute_result"
        },
        {
          "data": {
            "image/png": "[encoded data removed]",
            "text/plain": [
              "<Figure size 432x288 with 1 Axes>"
            ]
          },
          "metadata": {
            "needs_background": "light"
          },
          "output_type": "display_data"
        }
      ],
      "source": [
        "val_score = []\n",
        "for k in range(1, 50):\n",
        "    score = cross_val_score(KNeighborsClassifier(k), X_train, y_train, cv=5).mean()\n",
        "    val_score.append(score)\n",
        "\n",
        "print(val_score)\n",
        "plt.plot(val_score)\n",
        "     \n"
      ]
    },
    {
      "cell_type": "code",
      "execution_count": 18,
      "metadata": {
        "colab": {
          "base_uri": "https://localhost:8080/"
        },
        "id": "b6kKuJ4NUux6",
        "outputId": "75d76614-80e1-4415-a2c3-5b9adad9d140"
      },
      "outputs": [
        {
          "name": "stdout",
          "output_type": "stream",
          "text": [
            "0.6863095238095238\n",
            "KNeighborsClassifier(metric='manhattan', n_neighbors=19)\n"
          ]
        }
      ],
      "source": [
        "\n",
        "param_grid = {'n_neighbors': np.arange(1, 20),\n",
        "              'metric': ['euclidean', 'manhattan']}\n",
        "\n",
        "grid = GridSearchCV(KNeighborsClassifier(), param_grid, cv=5)\n",
        "\n",
        "grid.fit(X_train, y_train)\n",
        "\n",
        "print(grid.best_score_)\n",
        "print(grid.best_estimator_)"
      ]
    },
    {
      "cell_type": "code",
      "execution_count": 19,
      "metadata": {
        "colab": {
          "base_uri": "https://localhost:8080/"
        },
        "id": "P-IK6IMGp7WB",
        "outputId": "7e42adf6-ffe6-465c-99d6-4c9a9e848c66"
      },
      "outputs": [
        {
          "data": {
            "text/plain": [
              "(1, 13)"
            ]
          },
          "execution_count": 19,
          "metadata": {},
          "output_type": "execute_result"
        }
      ],
      "source": [
        "colm = ['Age','Sex', 'Chest pain type','BP','Cholesterol','FBS over 120','EKG results','Max HR','Exercise angina','Slope of ST', 'Number of vessels fluro', 'Thallium', 'Heart Disease']\n",
        "feat = np.array([23, 1, 1, 100, 500, 1, 1, 200, 1, 4.5, 2, 1, 2])\n",
        "# feat = np.array(feat)\n",
        "feat = np.reshape(feat,(1, feat.shape[0]))\n",
        "feat.shape\n"
      ]
    },
    {
      "cell_type": "markdown",
      "metadata": {
        "id": "8EGr6QPzs-YN"
      },
      "source": [
        "#Lets make some prediction on the test set"
      ]
    },
    {
      "cell_type": "code",
      "execution_count": 20,
      "metadata": {
        "colab": {
          "base_uri": "https://localhost:8080/"
        },
        "id": "wqo1ZHhn9qnh",
        "outputId": "d3f49daa-0e68-42f4-d7cf-50bc9eab0244"
      },
      "outputs": [
        {
          "name": "stdout",
          "output_type": "stream",
          "text": [
            "[1 0 0 0 1 0 1 0 1 1 0 0 1 1 0 1 1 1 0 1 0 0 1 1 1 1 1 1 1 0 1 1 1 1 0 0 1\n",
            " 1 0 1 1 0 1 0 1 1 1 1 0 0 0 1 1 0 1 1 0 1 1 1 1]\n",
            "1.0\n"
          ]
        }
      ],
      "source": [
        "predict_KNN = KNN().predict(X_test)\n",
        "print(predict_KNN)\n",
        "print(KNN().score(X_test, predict_KNN))"
      ]
    },
    {
      "cell_type": "code",
      "execution_count": 21,
      "metadata": {
        "colab": {
          "base_uri": "https://localhost:8080/"
        },
        "id": "yM-rpK0z-K2q",
        "outputId": "4f248fc7-f303-4a33-db20-3fca7d0a15a5"
      },
      "outputs": [
        {
          "name": "stdout",
          "output_type": "stream",
          "text": [
            "[1 0 0 0 1 0 1 0 1 1 1 0 1 1 1 0 0 1 1 0 0 0 1 0 0 1 1 1 1 0 1 1 0 1 0 0 1\n",
            " 1 0 1 1 0 1 0 0 0 0 0 0 0 0 1 1 1 1 1 1 1 1 1 0]\n",
            "0.9672131147540983\n"
          ]
        }
      ],
      "source": [
        "predict_RFC = RFC().predict(X_test)\n",
        "print(predict_RFC)\n",
        "print(RFC().score(X_test, predict_RFC))"
      ]
    },
    {
      "cell_type": "code",
      "execution_count": 22,
      "metadata": {
        "colab": {
          "base_uri": "https://localhost:8080/"
        },
        "id": "pxQKYccFIrpg",
        "outputId": "1301490a-28a6-437c-ecfb-de08e040aeaf"
      },
      "outputs": [
        {
          "name": "stdout",
          "output_type": "stream",
          "text": [
            "[1 0 0 0 1 0 1 0 1 1 1 0 1 1 0 0 0 1 1 0 0 0 1 0 0 1 1 1 1 0 1 1 1 1 0 0 1\n",
            " 1 0 1 1 0 1 0 0 0 0 0 0 0 0 1 1 1 1 1 1 1 0 1 0]\n",
            "1.0\n"
          ]
        },
        {
          "name": "stderr",
          "output_type": "stream",
          "text": [
            "/usr/local/lib/python3.8/dist-packages/sklearn/linear_model/_logistic.py:814: ConvergenceWarning: lbfgs failed to converge (status=1):\n",
            "STOP: TOTAL NO. of ITERATIONS REACHED LIMIT.\n",
            "\n",
            "Increase the number of iterations (max_iter) or scale the data as shown in:\n",
            "    https://scikit-learn.org/stable/modules/preprocessing.html\n",
            "Please also refer to the documentation for alternative solver options:\n",
            "    https://scikit-learn.org/stable/modules/linear_model.html#logistic-regression\n",
            "  n_iter_i = _check_optimize_result(\n",
            "/usr/local/lib/python3.8/dist-packages/sklearn/linear_model/_logistic.py:814: ConvergenceWarning: lbfgs failed to converge (status=1):\n",
            "STOP: TOTAL NO. of ITERATIONS REACHED LIMIT.\n",
            "\n",
            "Increase the number of iterations (max_iter) or scale the data as shown in:\n",
            "    https://scikit-learn.org/stable/modules/preprocessing.html\n",
            "Please also refer to the documentation for alternative solver options:\n",
            "    https://scikit-learn.org/stable/modules/linear_model.html#logistic-regression\n",
            "  n_iter_i = _check_optimize_result(\n"
          ]
        }
      ],
      "source": [
        "predict_LR = LR().predict(X_test)\n",
        "print(predict_LR)\n",
        "print(LR().score(X_test, predict_LR))"
      ]
    },
    {
      "cell_type": "markdown",
      "metadata": {
        "id": "nj8daSjAvz4-"
      },
      "source": [
        "#Let's use a confusion matrix to see wich one of our models have the less lost"
      ]
    },
    {
      "cell_type": "code",
      "execution_count": 23,
      "metadata": {
        "colab": {
          "base_uri": "https://localhost:8080/",
          "height": 283
        },
        "id": "fVjfueIFLv9D",
        "outputId": "59fae014-1d93-4e26-a821-7d81e4454e83"
      },
      "outputs": [
        {
          "data": {
            "text/plain": [
              "<AxesSubplot:>"
            ]
          },
          "execution_count": 23,
          "metadata": {},
          "output_type": "execute_result"
        },
        {
          "data": {
            "image/png": "[encoded data removed]",
            "text/plain": [
              "<Figure size 432x288 with 2 Axes>"
            ]
          },
          "metadata": {
            "needs_background": "light"
          },
          "output_type": "display_data"
        }
      ],
      "source": [
        "from sklearn.metrics import confusion_matrix\n",
        "#LogisticRegression\n",
        "sns.heatmap(confusion_matrix(y_test, predict_LR), annot=True)"
      ]
    },
    {
      "cell_type": "code",
      "execution_count": 24,
      "metadata": {
        "colab": {
          "base_uri": "https://localhost:8080/",
          "height": 283
        },
        "id": "wjVqxgUBQcI1",
        "outputId": "d5e1885d-7c91-48ac-9485-64ee7f23c5e5"
      },
      "outputs": [
        {
          "data": {
            "text/plain": [
              "<AxesSubplot:>"
            ]
          },
          "execution_count": 24,
          "metadata": {},
          "output_type": "execute_result"
        },
        {
          "data": {
            "image/png": "[encoded data removed]",
            "text/plain": [
              "<Figure size 432x288 with 2 Axes>"
            ]
          },
          "metadata": {
            "needs_background": "light"
          },
          "output_type": "display_data"
        }
      ],
      "source": [
        "#RandomForestClassifier\n",
        "sns.heatmap(confusion_matrix(y_test, predict_RFC), annot=True)"
      ]
    },
    {
      "cell_type": "code",
      "execution_count": 25,
      "metadata": {
        "colab": {
          "base_uri": "https://localhost:8080/",
          "height": 283
        },
        "id": "urZCJnHoSNZD",
        "outputId": "fce9c8db-41a2-4c9d-d653-aa961a7c5f91"
      },
      "outputs": [
        {
          "data": {
            "text/plain": [
              "<AxesSubplot:>"
            ]
          },
          "execution_count": 25,
          "metadata": {},
          "output_type": "execute_result"
        },
        {
          "data": {
            "image/png": "[encoded data removed]",
            "text/plain": [
              "<Figure size 432x288 with 2 Axes>"
            ]
          },
          "metadata": {
            "needs_background": "light"
          },
          "output_type": "display_data"
        }
      ],
      "source": [
        "#KNeighborsClassifier\n",
        "sns.heatmap(confusion_matrix(y_test, predict_KNN), annot=True)"
      ]
    },
    {
      "cell_type": "markdown",
      "metadata": {
        "id": "hptkAeOadwVB"
      },
      "source": [
        "#The model with the less lost happen to be the Logistic Regression model\n",
        "#Let's save it"
      ]
    },
    {
      "cell_type": "code",
      "execution_count": 29,
      "metadata": {
        "id": "DAIBBL3xvs_h"
      },
      "outputs": [],
      "source": [
        "import pickle\n",
        "filename = 'heartDisease_model.sav'\n",
        "pickle.dump(model, open(filename, 'wb'))"
      ]
    },
    {
      "cell_type": "code",
      "execution_count": null,
      "metadata": {
        "id": "QbUP9mhSfnT7"
      },
      "outputs": [],
      "source": []
    }
  ],
  "metadata": {
    "colab": {
      "provenance": []
    },
    "kernelspec": {
      "display_name": "Python 3",
      "name": "python3"
    },
    "language_info": {
      "name": "python"
    }
  },
  "nbformat": 4,
  "nbformat_minor": 0
}
